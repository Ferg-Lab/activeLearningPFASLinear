{
 "cells": [
  {
   "cell_type": "markdown",
   "id": "c7b64b44",
   "metadata": {},
   "source": [
    "AI/ML directed high-throughput virtual screening of probes\n",
    "\n",
    "Siva Dasetty, Max Topel | Ferguson Lab"
   ]
  },
  {
   "cell_type": "markdown",
   "id": "c16e3398",
   "metadata": {},
   "source": [
    "Standard imports"
   ]
  },
  {
   "cell_type": "code",
   "execution_count": 5,
   "id": "153ee8bf",
   "metadata": {},
   "outputs": [],
   "source": [
    "import os\n",
    "import os.path\n",
    "import sys\n",
    "import importlib\n",
    "import yaml\n",
    "\n",
    "import subprocess\n",
    "\n",
    "from time import time\n",
    "from datetime import datetime\n",
    "\n",
    "import numpy as np\n",
    "import pandas as pd\n",
    "import math\n",
    "\n",
    "import rdkit\n",
    "from rdkit import Chem\n",
    "from rdkit.Chem import AllChem\n",
    "from rdkit import DataStructs\n",
    "from rdkit.Chem.Draw import IPythonConsole\n",
    "from rdkit.Chem.Draw.MolDrawing import MolDrawing, DrawingOptions\n",
    "from rdkit.Chem import Draw\n",
    "from rdkit.Chem.Draw import rdMolDraw2D\n",
    "from rdkit.Chem import Descriptors\n",
    "from rdkit.Chem.Fragments import *\n",
    "\n",
    "from sklearn.decomposition import PCA\n",
    "\n",
    "import matplotlib.pyplot as plt\n",
    "from matplotlib.ticker import StrMethodFormatter\n",
    "from matplotlib import rcParams\n",
    "import matplotlib as mpl\n",
    "from matplotlib  import cm\n",
    "from PIL import Image\n",
    "from matplotlib import colors\n",
    "from mpl_toolkits.axes_grid1 import make_axes_locatable\n",
    "from matplotlib.offsetbox import (TextArea, DrawingArea, OffsetImage,\n",
    "                                  AnnotationBbox)\n",
    "from matplotlib.cbook import get_sample_data\n",
    "\n",
    "import multiprocessing\n",
    "\n",
    "from sklearn.metrics import mean_squared_error\n",
    "\n",
    "sys.path.append(\"../Codes/\")\n",
    "\n",
    "\n",
    "import utils_activeLearning_Oliver as ut\n",
    "\n",
    "import utils_functions as utils_functions\n",
    "#import utils_figures as utils_figures\n",
    "\n",
    "importlib.reload(ut)\n",
    "importlib.reload(utils_functions)\n",
    "#importlib.reload(utils_figures)\n",
    "\n",
    "import selfies as sf\n",
    "\n",
    "from oliver_vae.VAE import VAE_encode, VAE_decode\n",
    "\n",
    "import torch\n",
    "from torch import nn\n",
    "\n",
    "import copy"
   ]
  },
  {
   "cell_type": "code",
   "execution_count": null,
   "id": "e68613e0",
   "metadata": {},
   "outputs": [],
   "source": []
  },
  {
   "cell_type": "markdown",
   "id": "ea8432dd",
   "metadata": {},
   "source": [
    "Plot settings"
   ]
  },
  {
   "cell_type": "code",
   "execution_count": 4,
   "id": "7d3700f9",
   "metadata": {},
   "outputs": [],
   "source": [
    "plt.rcParams.update({'font.size': 20})\n",
    "\n",
    "# time stamp\n",
    "now = datetime.now()\n",
    "now = str(now)[:10]\n",
    "#figures_dir = './Figures/{}'.format(str(now)).replace(':','-')"
   ]
  },
  {
   "cell_type": "code",
   "execution_count": null,
   "id": "2c52750a",
   "metadata": {},
   "outputs": [],
   "source": []
  },
  {
   "cell_type": "markdown",
   "id": "c9191f68",
   "metadata": {},
   "source": [
    "Read all search molecules"
   ]
  },
  {
   "cell_type": "code",
   "execution_count": 3,
   "id": "e3b4a748",
   "metadata": {},
   "outputs": [],
   "source": [
    "# read all potential linear probes\n",
    "\n",
    "all_potential_linear_probes = pd.read_csv('../Data/VAE_data/SMILES_linearProbes_All.csv')\n",
    "\n",
    "# convert to list\n",
    "all_potential_linear_probesList = all_potential_linear_probes.smiles"
   ]
  },
  {
   "cell_type": "code",
   "execution_count": null,
   "id": "6844121d",
   "metadata": {},
   "outputs": [],
   "source": []
  },
  {
   "cell_type": "markdown",
   "id": "dd235523",
   "metadata": {},
   "source": [
    "## get molecular weight and other properties using smiles"
   ]
  },
  {
   "cell_type": "code",
   "execution_count": 4,
   "id": "7f255fea",
   "metadata": {},
   "outputs": [],
   "source": [
    "molWts = []\n",
    "ccount = []\n",
    "fcount = []\n",
    "clcount = []\n",
    "brcount = []\n",
    "for i in range(all_potential_linear_probes.smiles.values.shape[0]):\n",
    "    molWts.append(Descriptors.ExactMolWt(Chem.MolFromSmiles(all_potential_linear_probes.smiles.values[i])))\n",
    "    ccount.append(all_potential_linear_probes.smiles.values[i].count('C') - all_potential_linear_probes.smiles.values[i].count('Cl'))\n",
    "    fcount.append(all_potential_linear_probes.smiles.values[i].count('F'))\n",
    "    clcount.append(all_potential_linear_probes.smiles.values[i].count('Cl'))\n",
    "    brcount.append(all_potential_linear_probes.smiles.values[i].count('Br'))\n",
    "    \n",
    "##smiles_latentspace\n",
    "molWtsArray = np.array(molWts)\n",
    "all_potential_linear_probes['molwt'] = molWtsArray\n",
    "all_potential_linear_probes['ccount'] = np.array(ccount)\n",
    "all_potential_linear_probes['fcount'] = np.array(fcount)\n",
    "all_potential_linear_probes['clcount'] = np.array(clcount)\n",
    "all_potential_linear_probes['brcount'] = np.array(brcount)\n",
    "\n",
    "\n",
    "# save updated dataframe [if running first time]\n",
    "#all_potential_linear_probes.to_csv('../Data/VAE_data/SMILES_linearProbes_All_Properties.csv')\n",
    "\n",
    "# read updated dataframe\n",
    "\n",
    "all_potential_linear_probes = pd.read_csv(\"../Data/VAE_data/SMILES_linearProbes_All_Properties.csv\")\n",
    "\n",
    "#all_potential_linear_probes"
   ]
  },
  {
   "cell_type": "code",
   "execution_count": null,
   "id": "bceaae23",
   "metadata": {},
   "outputs": [],
   "source": []
  },
  {
   "cell_type": "markdown",
   "id": "7f0890d5",
   "metadata": {},
   "source": [
    "Get SELFIE reprsentation of all molecules for passing to trained VAE"
   ]
  },
  {
   "cell_type": "code",
   "execution_count": 8,
   "id": "33a41e78",
   "metadata": {},
   "outputs": [
    {
     "name": "stdout",
     "output_type": "stream",
     "text": [
      "Representation: SMILES\n",
      "--> Translating SMILES to SELFIES...\n",
      "Finished translating SMILES to SELFIES.\n",
      "--> Creating one-hot encoding...\n"
     ]
    },
    {
     "name": "stderr",
     "output_type": "stream",
     "text": [
      "100%|█████████████████████████████████████████████████████████████████████████████████████████| 3850/3850 [00:01<00:00, 2126.66it/s]\n"
     ]
    },
    {
     "name": "stdout",
     "output_type": "stream",
     "text": [
      "Finished creating one-hot encoding.\n",
      "Length of largest molecule:  130\n",
      "Encoding alphabets:  [')', '+', '[', 'C', ']', 'B', 'N', 'l', 'P', 'r', 'F', '(', ' ']\n",
      "selfies alphabet:  ['[epsilon]', '[C]', '[=C]', '[C@Hexpl]', '[N]', '[Ring1]', '[Branch1_1]', '[C@@Hexpl]', '[Branch1_3]', '[=O]', '[O]', '[Branch2_3]', '[Branch2_1]', '[=N]', '[c]', '[F]', '[Ring2]', '[Branch1_2]', '[o]', '[n]', '[S]', '[Branch2_2]', '[#N]', '[#C]', '[=S]', '[s]', '[-c]', '[Cl]', '[=c]', '[/C]', '[/c]', '[Br]', '[-n]', '[nHexpl]', '[=N+expl]', '[O-expl]', '[N+expl]', '[C@expl]', '[C@@expl]', '[/N]', '[\\\\S]', '[\\\\c]', '[.]', '[n+expl]', '[/O]', '[Expl-Ring1]', '[\\\\C]', '[P]', '[/S]', '[\\\\N]', '[\\\\O]', '[I]', '[Siexpl]', '[S@@expl]', '[S@expl]']\n",
      "Length of largest selfies:  137\n"
     ]
    }
   ],
   "source": [
    "# Encode molecules using Oliver's encoder\n",
    "\n",
    "print('Representation: SMILES')\n",
    "\n",
    "\n",
    "# all search probes\n",
    "selfies_list, selfies_alphabet, largest_selfies_len, encoding_list, encoding_alphabet, largest_molecule_len = ut.get_selfie_and_smiles_encodings_for_dataset(all_potential_linear_probes)\n",
    "\n",
    "# completed probes\n",
    "#selfies_list, selfies_alphabet, largest_selfies_len, encoding_list, encoding_alphabet, largest_molecule_len = ut.get_selfie_and_smiles_encodings_for_dataset(pfosfldataCopy)\n",
    "\n",
    "# unexplored linear probes\n",
    "#selfies_list, selfies_alphabet, largest_selfies_len, encoding_list, encoding_alphabet, largest_molecule_len = ut.get_selfie_and_smiles_encodings_for_dataset(unexplored_probes_list_df)\n",
    "\n",
    "# mobo probes\n",
    "#selfies_list, selfies_alphabet, largest_selfies_len, encoding_list, encoding_alphabet, largest_molecule_len = ut.get_selfie_and_smiles_encodings_for_dataset(mobo_candidates)\n",
    "\n",
    "#selfies_list, selfies_alphabet, largest_selfies_len, encoding_list, encoding_alphabet, largest_molecule_len = ut.get_selfie_and_smiles_encodings_for_dataset(mobo_candidates_batch2)\n",
    "\n",
    "print('--> Creating one-hot encoding...')\n",
    "# set largest selfies len according to Oliver data\n",
    "largest_selfies_len = 137\n",
    "onehotdata = ut.multiple_selfies_to_hot(selfies_list, largest_selfies_len, selfies_alphabet)\n",
    "        \n",
    "print('Finished creating one-hot encoding.')\n",
    "\n",
    "print(\"Length of largest molecule: \", largest_molecule_len)\n",
    "print(\"Encoding alphabets: \", encoding_alphabet)\n",
    "#print(\"Encoding list: \", encoding_list)\n",
    "\n",
    "#print(\"selfies list: \", selfies_list)\n",
    "print(\"selfies alphabet: \", selfies_alphabet)\n",
    "print(\"Length of largest selfies: \", largest_selfies_len)"
   ]
  },
  {
   "cell_type": "code",
   "execution_count": null,
   "id": "5a1c289f",
   "metadata": {},
   "outputs": [],
   "source": []
  },
  {
   "cell_type": "markdown",
   "id": "067265b1",
   "metadata": {},
   "source": [
    "Set device"
   ]
  },
  {
   "cell_type": "code",
   "execution_count": 9,
   "id": "f375f982",
   "metadata": {},
   "outputs": [
    {
     "data": {
      "text/plain": [
       "device(type='cuda')"
      ]
     },
     "execution_count": 9,
     "metadata": {},
     "output_type": "execute_result"
    }
   ],
   "source": [
    "device = torch.device(\"cuda\" if torch.cuda.is_available() else \"cpu\")\n",
    "device"
   ]
  },
  {
   "cell_type": "code",
   "execution_count": null,
   "id": "3359364a",
   "metadata": {},
   "outputs": [],
   "source": []
  },
  {
   "cell_type": "markdown",
   "id": "f28693f9",
   "metadata": {},
   "source": [
    "Read trained VAE model"
   ]
  },
  {
   "cell_type": "code",
   "execution_count": 10,
   "id": "6d31ef3a",
   "metadata": {},
   "outputs": [
    {
     "name": "stdout",
     "output_type": "stream",
     "text": [
      "--> Acquiring data...\n",
      "-->cuda\n"
     ]
    },
    {
     "data": {
      "text/plain": [
       "VAE_decode(\n",
       "  (decode_RNN): GRU(100, 200, num_layers=3)\n",
       "  (decode_FC): Sequential(\n",
       "    (0): Linear(in_features=200, out_features=55, bias=True)\n",
       "  )\n",
       ")"
      ]
     },
     "execution_count": 10,
     "metadata": {},
     "output_type": "execute_result"
    }
   ],
   "source": [
    "# Load Oliver's model \n",
    "\n",
    "# Oliver VAE hyperparameters or settings\n",
    "\n",
    "if os.path.exists(\"OliverVAE-settings.yml\"):\n",
    "    settings = yaml.safe_load(open(\"OliverVAE-settings.yml\", \"r\"))\n",
    "else:\n",
    "    print(\"Expected a file settings.yml but didn't find it.\")\n",
    "\n",
    "print('--> Acquiring data...')\n",
    "\n",
    "len_max_molec = 137 #onehotdata.shape[1]\n",
    "len_alphabet = 55 #onehotdata.shape[2]\n",
    "len_max_molec1Hot = len_max_molec * len_alphabet\n",
    "\n",
    "encoder_parameter = settings['encoder']\n",
    "decoder_parameter = settings['decoder']\n",
    "training_parameters = settings['training']\n",
    "\n",
    "device = torch.device(\"cuda\" if torch.cuda.is_available() else \"cpu\")\n",
    "print('-->' + str(device))\n",
    "\n",
    "model_encode = VAE_encode(len_max_molec1Hot, **encoder_parameter).to(device)\n",
    "model_decode = VAE_decode(len_alphabet, **decoder_parameter).to(device)\n",
    "\n",
    "# load model\n",
    "model_dir='oliver_vae/Models/2021-08-05 12-14-37/'\n",
    "warm_path = model_dir #'./Models/2020-09-04 15-15-46'\n",
    "warm_epoch = 1999\n",
    "warm_model = os.path.join(warm_path, 'Epochs-' + str(warm_epoch))\n",
    "\n",
    "encoder_state = torch.load(os.path.join(warm_model, 'encode.tar'))\n",
    "decoder_state = torch.load(os.path.join(warm_model, 'decode.tar'))\n",
    "\n",
    "model_encode.load_state_dict(encoder_state['state_dict'])\n",
    "model_decode.load_state_dict(decoder_state['state_dict'])\n",
    "\n",
    "model_encode.to(device)\n",
    "model_decode.to(device)"
   ]
  },
  {
   "cell_type": "code",
   "execution_count": null,
   "id": "c57c7c00",
   "metadata": {},
   "outputs": [],
   "source": []
  },
  {
   "cell_type": "markdown",
   "id": "e5b393d3",
   "metadata": {},
   "source": [
    "Encode all search molecules using VAE and the SELFIE representation"
   ]
  },
  {
   "cell_type": "code",
   "execution_count": 11,
   "id": "9c6a7d59",
   "metadata": {},
   "outputs": [
    {
     "name": "stdout",
     "output_type": "stream",
     "text": [
      "torch.Size([3850, 7535])\n",
      "% correct:  0.0\n"
     ]
    }
   ],
   "source": [
    "# flatten one hot data\n",
    "inp_flat_one_hot =  torch.tensor(np.array(onehotdata), dtype=torch.float).clone().detach().to(device).flatten(start_dim=1)\n",
    "\n",
    "print(inp_flat_one_hot.shape)\n",
    "\n",
    "total_correct = 0\n",
    "all_correct_molecules = set()\n",
    "all_incorrect_molecules = set()\n",
    "\n",
    "encoded_list = [] #torch.zeros(inp_flat_one_hot.shape[0]).to(device)\n",
    "mean_encoded_list = []\n",
    "# encode and decode each probe \n",
    "for i in range(inp_flat_one_hot.shape[0]):\n",
    "\n",
    "    # encode and save to encoded list\n",
    "    fancy_latent_point, mus, log_vars = model_encode(inp_flat_one_hot[i].unsqueeze(0))\n",
    "    \n",
    "    # append encoded probe to encoded_list \n",
    "    #encoded_list.append(fancy_latent_point[0])\n",
    "    encoded_list.append(mus[0])\n",
    "    \n",
    "    mean_encoded_list.append(mus[0])\n",
    "    \n",
    "    \n",
    "    # decode the probe\n",
    "    fancy_latent_point = fancy_latent_point.unsqueeze(0)\n",
    "\n",
    "    # initialize hidden\n",
    "    hidden = model_decode.init_hidden()\n",
    "    #  runs over letters from molecules (len=size of largest molecule)\n",
    "    gathered_atoms = []\n",
    "    for _ in range(len_max_molec):\n",
    "        out_one_hot, hidden = model_decode(fancy_latent_point, hidden)\n",
    "\n",
    "        out_one_hot = out_one_hot.flatten().detach()\n",
    "        soft = nn.Softmax(0)\n",
    "        out_one_hot = soft(out_one_hot)\n",
    "        out_index = out_one_hot.argmax(0)\n",
    "        gathered_atoms.append(out_index.data.cpu().tolist())\n",
    "    #print(\"gathered atoms\")\n",
    "    #print(gathered_atoms)\n",
    "    molecule_pre = ''\n",
    "    for i in gathered_atoms:\n",
    "        molecule_pre += selfies_alphabet[i]\n",
    "    molecule = molecule_pre.replace(' ', '')\n",
    "    #print(\"molecule\", sf.decoder(molecule))\n",
    "    \n",
    "    molecule = sf.decoder(molecule)\n",
    "    if ut.is_correct_smiles(molecule):\n",
    "        #print(\"correct\")\n",
    "        total_correct += 1\n",
    "        all_correct_molecules.add(molecule)         \n",
    "    else:\n",
    "        all_incorrect_molecules.add(molecule)         \n",
    "        #print(\"incorrect molecule\", molecule)\n",
    "\n",
    "# Convert encoded list to Torch tensor\n",
    "encoded_torch = torch.stack(encoded_list)\n",
    "mean_encoded_torch = torch.stack(mean_encoded_list)\n",
    "\n",
    "encoded_array = encoded_torch.cpu().detach().numpy()\n",
    "mean_encoded_array = mean_encoded_torch.cpu().detach().numpy()    \n",
    "    \n",
    "print(\"% correct: \", 100*(total_correct)/1000)\n",
    "\n",
    "#onehotdata.shape"
   ]
  },
  {
   "cell_type": "code",
   "execution_count": null,
   "id": "9d2d358a",
   "metadata": {},
   "outputs": [],
   "source": []
  },
  {
   "cell_type": "markdown",
   "id": "3b4db147",
   "metadata": {},
   "source": [
    "Save/read encoded data of all search molecules"
   ]
  },
  {
   "cell_type": "code",
   "execution_count": 12,
   "id": "9011bf83",
   "metadata": {},
   "outputs": [],
   "source": [
    "np.save('../Data/VAE_data/LatentVecs_AllSearchLinearProbes.npy', encoded_array)"
   ]
  },
  {
   "cell_type": "code",
   "execution_count": 13,
   "id": "bde9f255",
   "metadata": {},
   "outputs": [],
   "source": [
    "all_search_linear_probes_array = np.load('../Data/VAE_data/LatentVecs_AllSearchLinearProbes.npy')"
   ]
  },
  {
   "cell_type": "code",
   "execution_count": null,
   "id": "1f006a48",
   "metadata": {},
   "outputs": [],
   "source": []
  },
  {
   "cell_type": "markdown",
   "id": "ebbafa8c",
   "metadata": {},
   "source": [
    "Read latent space points of ZINC training set"
   ]
  },
  {
   "cell_type": "code",
   "execution_count": 6,
   "id": "73c602b2",
   "metadata": {},
   "outputs": [],
   "source": [
    "# Load Oliver's training data in latent space to perform latent space quality checks\n",
    "\n",
    "latentspace_extensive = np.load('../Data/VAE_data/LatentVecs_Extensive.npy')\n",
    "latentspace_primary = np.load('../Data/VAE_data/LatentVecs_Primary.npy')\n",
    "latentspace_ZINC = np.load('../Data/VAE_data/LatentVecs_ZINC.npy')\n",
    "\n",
    "# total latent space data\n",
    "latentspace_training = np.concatenate((latentspace_extensive, latentspace_primary, latentspace_ZINC), axis=0)\n",
    "\n",
    "# Load the corresponding SMILES labels\n",
    "\n",
    "smiles_extensive = pd.read_csv(\"../Data/VAE_data/Ext_Lib.csv\")\n",
    "smiles_primary = pd.read_csv(\"../Data/VAE_data/PS_Lib.csv\")\n",
    "smiles_ZINC = pd.read_csv(\"../Data/VAE_data/ZINC_Lib.csv\")\n",
    "\n",
    "#smiles_latentspace\n",
    "latentspace_smiles = pd.concat([smiles_extensive, smiles_primary, smiles_ZINC])"
   ]
  },
  {
   "cell_type": "code",
   "execution_count": null,
   "id": "589e2d07",
   "metadata": {},
   "outputs": [],
   "source": []
  },
  {
   "cell_type": "markdown",
   "id": "9a47847f",
   "metadata": {},
   "source": [
    "Space for calculating properties of molecules in ZINC set, if required"
   ]
  },
  {
   "cell_type": "code",
   "execution_count": null,
   "id": "9f8b50b5",
   "metadata": {},
   "outputs": [],
   "source": []
  },
  {
   "cell_type": "code",
   "execution_count": null,
   "id": "98fa52ad",
   "metadata": {},
   "outputs": [],
   "source": []
  },
  {
   "cell_type": "markdown",
   "id": "2ea55340",
   "metadata": {},
   "source": [
    "Apply PCA over search set"
   ]
  },
  {
   "cell_type": "code",
   "execution_count": 26,
   "id": "fffbd131",
   "metadata": {},
   "outputs": [
    {
     "name": "stdout",
     "output_type": "stream",
     "text": [
      "[89.58982  91.56334  92.90315  94.01864  94.92091  95.50037  96.03267\n",
      " 96.5355   96.86376  97.1596   97.41349  97.65239  97.86564  98.05541\n",
      " 98.21808  98.37208  98.51624  98.64283  98.76724  98.87211  98.97498\n",
      " 99.06517  99.149445 99.222305 99.291756 99.358116 99.41777  99.47132\n",
      " 99.51957  99.56569  99.606476 99.642334 99.67528  99.70566  99.73209\n",
      " 99.75523  99.77686  99.79739  99.814415 99.83     99.84519  99.85845\n",
      " 99.87122  99.883316 99.89443  99.90424  99.913704 99.922714 99.93131\n",
      " 99.93866  99.945496 99.95228  99.95833  99.96304  99.96756  99.9719\n",
      " 99.97585  99.97932  99.9827   99.985725 99.98837  99.990875 99.993\n",
      " 99.994354 99.99535  99.996216 99.997025 99.99767  99.998276 99.998825\n",
      " 99.99927  99.99952  99.99974  99.999855 99.999954 99.99997  99.99997\n",
      " 99.99997  99.99997  99.99997  99.99997  99.99997  99.99997  99.99997\n",
      " 99.99997  99.99997  99.99997  99.99997  99.99997  99.99997  99.99997\n",
      " 99.99997  99.99997  99.99997  99.99997  99.99997  99.99997  99.99997\n",
      " 99.99997  99.99997 ]\n"
     ]
    },
    {
     "data": {
      "image/png": "[encoded data removed]",
      "text/plain": [
       "<Figure size 864x216 with 2 Axes>"
      ]
     },
     "metadata": {
      "needs_background": "light"
     },
     "output_type": "display_data"
    }
   ],
   "source": [
    "# Perform PCA on the total encoded data including probes\n",
    "\n",
    "pca = PCA() #n_components=2\n",
    "pca.fit(all_search_linear_probes_array) \n",
    "\n",
    "\n",
    "fig = plt.figure(figsize=[12,3])\n",
    "fig.tight_layout(pad=10.0)\n",
    "fig.subplots_adjust(bottom=0.0, hspace=.5, wspace=.5)\n",
    "\n",
    "ax = []\n",
    "for a in range(2):\n",
    "    ax.append('ax' + str(a)) \n",
    "    ax[a] = fig.add_subplot(1, 2, a+1)\n",
    "    ax[a].tick_params(axis=\"x\", labelsize=15, direction='in', length=6, width=2, colors='black', rotation=90)\n",
    "    ax[a].tick_params(axis=\"y\", labelsize=15, direction='in', length=6, width=2, colors='black')\n",
    "    ax[a].tick_params(which='minor', direction='in', length=3, width=2)  \n",
    "\n",
    "\n",
    "#print(\"Explained variance: \", 100*pca2.explained_variance_ratio_)\n",
    "\n",
    "ax[0].plot(100*pca.explained_variance_ratio_, color='black', marker='.', ms=10)\n",
    "ax[0].set_xlabel('Component', fontsize=20)\n",
    "ax[0].set_ylabel('% Explained variance', fontsize=20)\n",
    "\n",
    "ax[1].plot(np.cumsum(100*pca.explained_variance_ratio_), color='black', marker='.', ms=10)\n",
    "\n",
    "ax[1].set_xlabel('Number of components', fontsize=20)\n",
    "ax[1].set_ylabel('% Cumulative \\n explained variance', fontsize=20)\n",
    "ax[1].axhline(y=95, color='black')\n",
    "ax[1].axvline(x=4, color='black')\n",
    "\n",
    "ax[1].annotate('5', (5, 95),\n",
    "            xytext=(0.25, 0.25), textcoords='axes fraction',\n",
    "            arrowprops=dict(facecolor='black', shrink=0.05),\n",
    "            fontsize=20,\n",
    "            horizontalalignment='right', verticalalignment='bottom')\n",
    "\n",
    "print(np.cumsum(100*pca.explained_variance_ratio_))\n",
    "\n",
    "plt.savefig(figures_dir + '-PCAVariance_total-zoom.png', bbox_inches = \"tight\")\n",
    "\n",
    "#plt.savefig('../WeeklyAnalysis/Figures/PCAVariance_total-zoom.png', dpi=300, bbox_inches = \"tight\")"
   ]
  },
  {
   "cell_type": "code",
   "execution_count": null,
   "id": "b16cabbd",
   "metadata": {},
   "outputs": [],
   "source": []
  },
  {
   "cell_type": "markdown",
   "id": "d102896a",
   "metadata": {},
   "source": [
    "Transform latent points to PC space"
   ]
  },
  {
   "cell_type": "code",
   "execution_count": 27,
   "id": "436f36b3",
   "metadata": {},
   "outputs": [],
   "source": [
    "## search set\n",
    "\n",
    "projected_all_search_linear_probes_array = pca.transform(all_search_linear_probes_array) # search set\n",
    "projected_zinc_set = pca.transform(latentspace_training) # ZINC set\n",
    "\n",
    "\n",
    "## save the arrays (ONLY ONCE)\n",
    "\n",
    "#np.save('../Data/VAE_data/PCA_AllSearchLinearProbes.npy', projected_all_search_linear_probes_array)\n",
    "#np.save('../Data/VAE_data/PCA_ZINC_TrainingSet.npy', projected_zinc_set)\n",
    "\n",
    "\n"
   ]
  },
  {
   "cell_type": "code",
   "execution_count": null,
   "id": "4b26a8fe",
   "metadata": {},
   "outputs": [],
   "source": []
  },
  {
   "cell_type": "code",
   "execution_count": 7,
   "id": "a75d9df1",
   "metadata": {},
   "outputs": [],
   "source": [
    "## read saved PCA arrays\n",
    "projected_all_search_linear_probes_array = np.load('../Data/VAE_data/PCA_AllSearchLinearProbes.npy')\n",
    "\n",
    "projected_zinc_set = np.load('../Data/VAE_data/PCA_ZINC_TrainingSet.npy')\n"
   ]
  },
  {
   "cell_type": "code",
   "execution_count": null,
   "id": "bbe4aae0",
   "metadata": {},
   "outputs": [],
   "source": []
  },
  {
   "cell_type": "code",
   "execution_count": null,
   "id": "d19f086e",
   "metadata": {},
   "outputs": [],
   "source": []
  },
  {
   "cell_type": "code",
   "execution_count": null,
   "id": "98b50743",
   "metadata": {},
   "outputs": [],
   "source": []
  }
 ],
 "metadata": {
  "kernelspec": {
   "display_name": "Python 3 (ipykernel)",
   "language": "python",
   "name": "python3"
  },
  "language_info": {
   "codemirror_mode": {
    "name": "ipython",
    "version": 3
   },
   "file_extension": ".py",
   "mimetype": "text/x-python",
   "name": "python",
   "nbconvert_exporter": "python",
   "pygments_lexer": "ipython3",
   "version": "3.9.13"
  }
 },
 "nbformat": 4,
 "nbformat_minor": 5
}
